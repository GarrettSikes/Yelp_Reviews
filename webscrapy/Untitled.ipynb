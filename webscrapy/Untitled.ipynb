{
 "cells": [
  {
   "cell_type": "code",
   "execution_count": 43,
   "metadata": {},
   "outputs": [
    {
     "ename": "TypeError",
     "evalue": "list indices must be integers or slices, not str",
     "output_type": "error",
     "traceback": [
      "\u001b[1;31m---------------------------------------------------------------------------\u001b[0m",
      "\u001b[1;31mTypeError\u001b[0m                                 Traceback (most recent call last)",
      "\u001b[1;32m<ipython-input-43-5670cac9bf7d>\u001b[0m in \u001b[0;36m<module>\u001b[1;34m\u001b[0m\n\u001b[0;32m     25\u001b[0m     \u001b[1;31m# print('Test here above range of 0 to 150', '$'*50)\u001b[0m\u001b[1;33m\u001b[0m\u001b[1;33m\u001b[0m\u001b[1;33m\u001b[0m\u001b[0m\n\u001b[0;32m     26\u001b[0m     \u001b[1;31m#num_pages = int(response.xpath('').extract_first())\u001b[0m\u001b[1;33m\u001b[0m\u001b[1;33m\u001b[0m\u001b[1;33m\u001b[0m\u001b[0m\n\u001b[1;32m---> 27\u001b[1;33m     \u001b[0mcities\u001b[0m \u001b[1;33m=\u001b[0m \u001b[0mpotential_cities\u001b[0m\u001b[1;33m[\u001b[0m\u001b[0mcity\u001b[0m\u001b[1;33m]\u001b[0m\u001b[1;33m\u001b[0m\u001b[1;33m\u001b[0m\u001b[0m\n\u001b[0m\u001b[0;32m     28\u001b[0m     \u001b[0mprint\u001b[0m\u001b[1;33m(\u001b[0m\u001b[0mcities\u001b[0m\u001b[1;33m)\u001b[0m\u001b[1;33m\u001b[0m\u001b[1;33m\u001b[0m\u001b[0m\n\u001b[0;32m     29\u001b[0m     \u001b[1;32mfor\u001b[0m \u001b[0mn\u001b[0m \u001b[1;32min\u001b[0m \u001b[0mrange\u001b[0m\u001b[1;33m(\u001b[0m\u001b[1;36m0\u001b[0m\u001b[1;33m,\u001b[0m\u001b[1;36m21\u001b[0m\u001b[1;33m,\u001b[0m\u001b[1;36m10\u001b[0m\u001b[1;33m)\u001b[0m\u001b[1;33m:\u001b[0m \u001b[1;31m# 100 most reviewed resteraunts at 10 resteraunts per page: (10*num_pages)+1 would go through all pages\u001b[0m\u001b[1;33m\u001b[0m\u001b[1;33m\u001b[0m\u001b[0m\n",
      "\u001b[1;31mTypeError\u001b[0m: list indices must be integers or slices, not str"
     ]
    }
   ],
   "source": [
    "\n",
    "potential_cities = ['New York NY', 'Los Angeles CA', 'Chicago IL', 'Houston TX', 'Phoenix AZ', 'Philadelphia PA', 'San Antonio TX', 'San Diego CA', 'Dallas TX', 'San Jose CA']   \n",
    "# starting with top ten cities by population\n",
    "potential_cities_urls = []         # link for all the potential cities\n",
    "yelp_cities_urls = []               # link for all the yelp pages of potential cities\n",
    "potential_cities_split = []       # potential cities split into nested lists to use for searching cities within the url\n",
    "potential_cities_format = 'https://www.yelp.com/search?find_desc=BBQ&find_loc={}&sortby=review_count&start={}'\n",
    "# input location and review number start(multiples of 10) \n",
    "\n",
    "for i in potential_cities:\n",
    "    potential_cities_split.append(i.split(\" \"))\n",
    "    #print(\"First for loop\", '-'*80)\n",
    "for j in potential_cities_split:\n",
    "    if len(j)==2:\n",
    "        potential_cities_urls.append(j[0] + '%2C%20' + j[1])\n",
    "        #print(\"First if \", '-'*80)\n",
    "    if (len(j)==3):\n",
    "        potential_cities_urls.append(j[0] + '%20' + j[1] + '%2C%20' + j[2])\n",
    "        #print(\"Second if \", '-'*80)\n",
    "    if (len(j)==4):\n",
    "        potential_cities_urls.append(j[0] + '%20' + j[1] + '%20' + j[2] + '%2C%20' + j[3])\n",
    "\n",
    "#print(potential_cities_url, '*'*80)\n",
    "\n",
    "for city in potential_cities_urls:\n",
    "    # print('Test here above range of 0 to 150', '$'*50)\n",
    "    #num_pages = int(response.xpath('').extract_first())    \n",
    "    for n in range(0,21,10): # 100 most reviewed resteraunts at 10 resteraunts per page: (10*num_pages)+1 would go through all pages\n",
    "        # print('Test here above cities_url append', '&'*50)\n",
    "        yelp_cities_urls.append(potential_cities_format.format(city,n))\n",
    "        #print(city)\n",
    "        #print(yelp_cities_url)\n",
    "        #print('2nd urls for loop', '-'*80)\n",
    "    # print('3rd for loop', '-'*80)\n",
    "\n",
    "for city_url in yelp_cities_urls[:3]:\n",
    "    #print(url, ':'*40)\n",
    "    yield Request(url=city_url, callback = self.parse_urls)\n"
   ]
  },
  {
   "cell_type": "code",
   "execution_count": 26,
   "metadata": {},
   "outputs": [
    {
     "data": {
      "text/plain": [
       "['New%20York%2C%20NY',\n",
       " 'Los%20Angeles%2C%20CA',\n",
       " 'Chicago%2C%20IL',\n",
       " 'Houston%2C%20TX',\n",
       " 'Phoenix%2C%20Arizona',\n",
       " 'Philadelphia%2C%20PA',\n",
       " 'San%20Antonio%2C%20TX',\n",
       " 'San%20Diego%2C%20CA',\n",
       " 'Dallas%2C%20TX',\n",
       " 'San%20Jose%2C%20CA']"
      ]
     },
     "execution_count": 26,
     "metadata": {},
     "output_type": "execute_result"
    }
   ],
   "source": [
    "potential_cities_urls"
   ]
  },
  {
   "cell_type": "code",
   "execution_count": null,
   "metadata": {},
   "outputs": [],
   "source": []
  }
 ],
 "metadata": {
  "kernelspec": {
   "display_name": "Python 3",
   "language": "python",
   "name": "python3"
  },
  "language_info": {
   "codemirror_mode": {
    "name": "ipython",
    "version": 3
   },
   "file_extension": ".py",
   "mimetype": "text/x-python",
   "name": "python",
   "nbconvert_exporter": "python",
   "pygments_lexer": "ipython3",
   "version": "3.7.6"
  }
 },
 "nbformat": 4,
 "nbformat_minor": 4
}
