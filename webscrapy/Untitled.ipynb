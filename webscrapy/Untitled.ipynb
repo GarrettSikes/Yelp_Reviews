{
 "cells": [
  {
   "cell_type": "code",
   "execution_count": 76,
   "metadata": {},
   "outputs": [
    {
     "name": "stdout",
     "output_type": "stream",
     "text": [
      "New%20York%2C%20NY\n",
      "{'city_name': 'New%20York%2C%20NY'}\n",
      "New%20York%2C%20NY\n",
      "{'city_name': 'New%20York%2C%20NY'}\n",
      "New%20York%2C%20NY\n",
      "{'city_name': 'New%20York%2C%20NY'}\n",
      "Los%20Angeles%2C%20CA\n",
      "{'city_name': 'Los%20Angeles%2C%20CA'}\n",
      "Los%20Angeles%2C%20CA\n",
      "{'city_name': 'Los%20Angeles%2C%20CA'}\n",
      "Los%20Angeles%2C%20CA\n",
      "{'city_name': 'Los%20Angeles%2C%20CA'}\n",
      "Chicago%2C%20IL\n",
      "{'city_name': 'Chicago%2C%20IL'}\n",
      "Chicago%2C%20IL\n",
      "{'city_name': 'Chicago%2C%20IL'}\n",
      "Chicago%2C%20IL\n",
      "{'city_name': 'Chicago%2C%20IL'}\n",
      "Houston%2C%20TX\n",
      "{'city_name': 'Houston%2C%20TX'}\n",
      "Houston%2C%20TX\n",
      "{'city_name': 'Houston%2C%20TX'}\n",
      "Houston%2C%20TX\n",
      "{'city_name': 'Houston%2C%20TX'}\n",
      "Phoenix%2C%20AZ\n",
      "{'city_name': 'Phoenix%2C%20AZ'}\n",
      "Phoenix%2C%20AZ\n",
      "{'city_name': 'Phoenix%2C%20AZ'}\n",
      "Phoenix%2C%20AZ\n",
      "{'city_name': 'Phoenix%2C%20AZ'}\n",
      "Philadelphia%2C%20PA\n",
      "{'city_name': 'Philadelphia%2C%20PA'}\n",
      "Philadelphia%2C%20PA\n",
      "{'city_name': 'Philadelphia%2C%20PA'}\n",
      "Philadelphia%2C%20PA\n",
      "{'city_name': 'Philadelphia%2C%20PA'}\n",
      "San%20Antonio%2C%20TX\n",
      "{'city_name': 'San%20Antonio%2C%20TX'}\n",
      "San%20Antonio%2C%20TX\n",
      "{'city_name': 'San%20Antonio%2C%20TX'}\n",
      "San%20Antonio%2C%20TX\n",
      "{'city_name': 'San%20Antonio%2C%20TX'}\n",
      "San%20Diego%2C%20CA\n",
      "{'city_name': 'San%20Diego%2C%20CA'}\n",
      "San%20Diego%2C%20CA\n",
      "{'city_name': 'San%20Diego%2C%20CA'}\n",
      "San%20Diego%2C%20CA\n",
      "{'city_name': 'San%20Diego%2C%20CA'}\n",
      "Dallas%2C%20TX\n",
      "{'city_name': 'Dallas%2C%20TX'}\n",
      "Dallas%2C%20TX\n",
      "{'city_name': 'Dallas%2C%20TX'}\n",
      "Dallas%2C%20TX\n",
      "{'city_name': 'Dallas%2C%20TX'}\n",
      "San%20Jose%2C%20CA\n",
      "{'city_name': 'San%20Jose%2C%20CA'}\n",
      "San%20Jose%2C%20CA\n",
      "{'city_name': 'San%20Jose%2C%20CA'}\n",
      "San%20Jose%2C%20CA\n",
      "{'city_name': 'San%20Jose%2C%20CA'}\n"
     ]
    },
    {
     "data": {
      "text/plain": [
       "'\\nprint(yelp_cities_urls)\\ncity, url = zip(yelp_cities_urls)\\ncities = {}\\ncities\\n'"
      ]
     },
     "execution_count": 76,
     "metadata": {},
     "output_type": "execute_result"
    }
   ],
   "source": [
    "\n",
    "\n",
    "potential_cities = ['New York NY', 'Los Angeles CA', 'Chicago IL', 'Houston TX', 'Phoenix AZ', 'Philadelphia PA', 'San Antonio TX', 'San Diego CA', 'Dallas TX', 'San Jose CA']   \n",
    "# starting with top ten cities by population\n",
    "potential_cities_urls = []         # link for all the potential cities\n",
    "yelp_cities_urls = []               # link for all the yelp pages of potential cities\n",
    "potential_cities_split = []       # potential cities split into nested lists to use for searching cities within the url\n",
    "potential_cities_format = 'https://www.yelp.com/search?find_desc=BBQ&find_loc={}&sortby=review_count&start={}'\n",
    "# input location and review number start(multiples of 10) \n",
    "\n",
    "for i in potential_cities:\n",
    "    potential_cities_split.append(i.split(\" \"))\n",
    "    #print(\"First for loop\", '-'*80)\n",
    "for j in potential_cities_split:\n",
    "    if len(j)==2:\n",
    "        potential_cities_urls.append(j[0] + '%2C%20' + j[1])\n",
    "        #print(\"First if \", '-'*80)\n",
    "    if (len(j)==3):\n",
    "        potential_cities_urls.append(j[0] + '%20' + j[1] + '%2C%20' + j[2])\n",
    "        #print(\"Second if \", '-'*80)\n",
    "    if (len(j)==4):\n",
    "        potential_cities_urls.append(j[0] + '%20' + j[1] + '%20' + j[2] + '%2C%20' + j[3])\n",
    "\n",
    "#print(potential_cities_url, '*'*80)\n",
    "\n",
    "for city in potential_cities_urls:\n",
    "    # print('Test here above range of 0 to 150', '$'*50)\n",
    "    #num_pages = int(response.xpath('').extract_first()) \n",
    "    \n",
    "    for n in range(0,21,10): # 100 most reviewed resteraunts at 10 resteraunts per page: (10*num_pages)+1 would go through all pages\n",
    "        # print('Test here above cities_url append', '&'*50)\n",
    "        yelp_cities_urls.append((city, potential_cities_format.format(city,n)))\n",
    "        #print(city)\n",
    "        #print(yelp_cities_url)\n",
    "        #print('2nd urls for loop', '-'*80)\n",
    "    #print('3rd for loop', '-'*80)\n",
    "    \n",
    "for city, url in yelp_cities_urls:\n",
    "    sample = {}\n",
    "    sample['city_name'] = city\n",
    "    #meta = sample\n",
    "    print(city)\n",
    "    print(sample)\n",
    "'''\n",
    "print(yelp_cities_urls)\n",
    "city, url = zip(yelp_cities_urls)\n",
    "cities = {}\n",
    "cities\n",
    "'''"
   ]
  },
  {
   "cell_type": "code",
   "execution_count": 56,
   "metadata": {},
   "outputs": [
    {
     "data": {
      "text/plain": [
       "['New%20York%2C%20NY',\n",
       " 'Los%20Angeles%2C%20CA',\n",
       " 'Chicago%2C%20IL',\n",
       " 'Houston%2C%20TX',\n",
       " 'Phoenix%2C%20AZ',\n",
       " 'Philadelphia%2C%20PA',\n",
       " 'San%20Antonio%2C%20TX',\n",
       " 'San%20Diego%2C%20CA',\n",
       " 'Dallas%2C%20TX',\n",
       " 'San%20Jose%2C%20CA']"
      ]
     },
     "execution_count": 56,
     "metadata": {},
     "output_type": "execute_result"
    }
   ],
   "source": [
    "potential_cities_urls"
   ]
  },
  {
   "cell_type": "code",
   "execution_count": 58,
   "metadata": {},
   "outputs": [
    {
     "data": {
      "text/plain": [
       "[('New%20York%2C%20NY',\n",
       "  'https://www.yelp.com/search?find_desc=BBQ&find_loc=New%20York%2C%20NY&sortby=review_count&start=0'),\n",
       " ('New%20York%2C%20NY',\n",
       "  'https://www.yelp.com/search?find_desc=BBQ&find_loc=New%20York%2C%20NY&sortby=review_count&start=10'),\n",
       " ('New%20York%2C%20NY',\n",
       "  'https://www.yelp.com/search?find_desc=BBQ&find_loc=New%20York%2C%20NY&sortby=review_count&start=20'),\n",
       " ('Los%20Angeles%2C%20CA',\n",
       "  'https://www.yelp.com/search?find_desc=BBQ&find_loc=Los%20Angeles%2C%20CA&sortby=review_count&start=0'),\n",
       " ('Los%20Angeles%2C%20CA',\n",
       "  'https://www.yelp.com/search?find_desc=BBQ&find_loc=Los%20Angeles%2C%20CA&sortby=review_count&start=10'),\n",
       " ('Los%20Angeles%2C%20CA',\n",
       "  'https://www.yelp.com/search?find_desc=BBQ&find_loc=Los%20Angeles%2C%20CA&sortby=review_count&start=20'),\n",
       " ('Chicago%2C%20IL',\n",
       "  'https://www.yelp.com/search?find_desc=BBQ&find_loc=Chicago%2C%20IL&sortby=review_count&start=0'),\n",
       " ('Chicago%2C%20IL',\n",
       "  'https://www.yelp.com/search?find_desc=BBQ&find_loc=Chicago%2C%20IL&sortby=review_count&start=10'),\n",
       " ('Chicago%2C%20IL',\n",
       "  'https://www.yelp.com/search?find_desc=BBQ&find_loc=Chicago%2C%20IL&sortby=review_count&start=20'),\n",
       " ('Houston%2C%20TX',\n",
       "  'https://www.yelp.com/search?find_desc=BBQ&find_loc=Houston%2C%20TX&sortby=review_count&start=0'),\n",
       " ('Houston%2C%20TX',\n",
       "  'https://www.yelp.com/search?find_desc=BBQ&find_loc=Houston%2C%20TX&sortby=review_count&start=10'),\n",
       " ('Houston%2C%20TX',\n",
       "  'https://www.yelp.com/search?find_desc=BBQ&find_loc=Houston%2C%20TX&sortby=review_count&start=20'),\n",
       " ('Phoenix%2C%20AZ',\n",
       "  'https://www.yelp.com/search?find_desc=BBQ&find_loc=Phoenix%2C%20AZ&sortby=review_count&start=0'),\n",
       " ('Phoenix%2C%20AZ',\n",
       "  'https://www.yelp.com/search?find_desc=BBQ&find_loc=Phoenix%2C%20AZ&sortby=review_count&start=10'),\n",
       " ('Phoenix%2C%20AZ',\n",
       "  'https://www.yelp.com/search?find_desc=BBQ&find_loc=Phoenix%2C%20AZ&sortby=review_count&start=20'),\n",
       " ('Philadelphia%2C%20PA',\n",
       "  'https://www.yelp.com/search?find_desc=BBQ&find_loc=Philadelphia%2C%20PA&sortby=review_count&start=0'),\n",
       " ('Philadelphia%2C%20PA',\n",
       "  'https://www.yelp.com/search?find_desc=BBQ&find_loc=Philadelphia%2C%20PA&sortby=review_count&start=10'),\n",
       " ('Philadelphia%2C%20PA',\n",
       "  'https://www.yelp.com/search?find_desc=BBQ&find_loc=Philadelphia%2C%20PA&sortby=review_count&start=20'),\n",
       " ('San%20Antonio%2C%20TX',\n",
       "  'https://www.yelp.com/search?find_desc=BBQ&find_loc=San%20Antonio%2C%20TX&sortby=review_count&start=0'),\n",
       " ('San%20Antonio%2C%20TX',\n",
       "  'https://www.yelp.com/search?find_desc=BBQ&find_loc=San%20Antonio%2C%20TX&sortby=review_count&start=10'),\n",
       " ('San%20Antonio%2C%20TX',\n",
       "  'https://www.yelp.com/search?find_desc=BBQ&find_loc=San%20Antonio%2C%20TX&sortby=review_count&start=20'),\n",
       " ('San%20Diego%2C%20CA',\n",
       "  'https://www.yelp.com/search?find_desc=BBQ&find_loc=San%20Diego%2C%20CA&sortby=review_count&start=0'),\n",
       " ('San%20Diego%2C%20CA',\n",
       "  'https://www.yelp.com/search?find_desc=BBQ&find_loc=San%20Diego%2C%20CA&sortby=review_count&start=10'),\n",
       " ('San%20Diego%2C%20CA',\n",
       "  'https://www.yelp.com/search?find_desc=BBQ&find_loc=San%20Diego%2C%20CA&sortby=review_count&start=20'),\n",
       " ('Dallas%2C%20TX',\n",
       "  'https://www.yelp.com/search?find_desc=BBQ&find_loc=Dallas%2C%20TX&sortby=review_count&start=0'),\n",
       " ('Dallas%2C%20TX',\n",
       "  'https://www.yelp.com/search?find_desc=BBQ&find_loc=Dallas%2C%20TX&sortby=review_count&start=10'),\n",
       " ('Dallas%2C%20TX',\n",
       "  'https://www.yelp.com/search?find_desc=BBQ&find_loc=Dallas%2C%20TX&sortby=review_count&start=20'),\n",
       " ('San%20Jose%2C%20CA',\n",
       "  'https://www.yelp.com/search?find_desc=BBQ&find_loc=San%20Jose%2C%20CA&sortby=review_count&start=0'),\n",
       " ('San%20Jose%2C%20CA',\n",
       "  'https://www.yelp.com/search?find_desc=BBQ&find_loc=San%20Jose%2C%20CA&sortby=review_count&start=10'),\n",
       " ('San%20Jose%2C%20CA',\n",
       "  'https://www.yelp.com/search?find_desc=BBQ&find_loc=San%20Jose%2C%20CA&sortby=review_count&start=20')]"
      ]
     },
     "execution_count": 58,
     "metadata": {},
     "output_type": "execute_result"
    }
   ],
   "source": [
    "yelp_cities_urls"
   ]
  },
  {
   "cell_type": "code",
   "execution_count": null,
   "metadata": {},
   "outputs": [],
   "source": []
  }
 ],
 "metadata": {
  "kernelspec": {
   "display_name": "Python 3",
   "language": "python",
   "name": "python3"
  },
  "language_info": {
   "codemirror_mode": {
    "name": "ipython",
    "version": 3
   },
   "file_extension": ".py",
   "mimetype": "text/x-python",
   "name": "python",
   "nbconvert_exporter": "python",
   "pygments_lexer": "ipython3",
   "version": "3.7.6"
  }
 },
 "nbformat": 4,
 "nbformat_minor": 4
}
